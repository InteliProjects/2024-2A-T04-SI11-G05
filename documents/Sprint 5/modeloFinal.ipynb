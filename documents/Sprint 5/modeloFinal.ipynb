{
  "cells": [
    {
      "cell_type": "markdown",
      "metadata": {
        "id": "yBBkmD6dHxwL"
      },
      "source": [
        "#Introdução\n",
        "\n",
        "Este notebook apresenta o processo de criação de uma rede neural para predição de fraudes em contas de agua para a Aegea, os dados presentes nesse notebook já foram previamente tratados e analisados no nosso notebook de analise e preparação\n",
        "\n",
        "A Aegea, criada em 2010, é uma das principais referências no setor privado de saneamento básico no Brasil. Com atuação em mais de 500 cidades, em 15 estados, a empresa atende mais de 31 milhões de pessoas, levando saúde e qualidade de vida através da gestão de serviços essenciais como o abastecimento de água e tratamento de esgoto."
      ]
    },
    {
      "cell_type": "markdown",
      "metadata": {
        "id": "hjOZaJemKsZB"
      },
      "source": [
        "#Importação de Configurações"
      ]
    },
    {
      "cell_type": "markdown",
      "metadata": {
        "id": "KKjtyGq9MMOS"
      },
      "source": [
        "##Instalação das bibliotecas"
      ]
    },
    {
      "cell_type": "code",
      "execution_count": 4,
      "metadata": {
        "colab": {
          "base_uri": "https://localhost:8080/"
        },
        "id": "XekJeSEiHrcs",
        "outputId": "39710794-55df-4811-d7a4-5999111c00c1"
      },
      "outputs": [
        {
          "output_type": "stream",
          "name": "stdout",
          "text": [
            "Requirement already satisfied: keras in /usr/local/lib/python3.10/dist-packages (3.4.1)\n",
            "Requirement already satisfied: absl-py in /usr/local/lib/python3.10/dist-packages (from keras) (1.4.0)\n",
            "Requirement already satisfied: numpy in /usr/local/lib/python3.10/dist-packages (from keras) (1.26.4)\n",
            "Requirement already satisfied: rich in /usr/local/lib/python3.10/dist-packages (from keras) (13.9.1)\n",
            "Requirement already satisfied: namex in /usr/local/lib/python3.10/dist-packages (from keras) (0.0.8)\n",
            "Requirement already satisfied: h5py in /usr/local/lib/python3.10/dist-packages (from keras) (3.11.0)\n",
            "Requirement already satisfied: optree in /usr/local/lib/python3.10/dist-packages (from keras) (0.13.0)\n",
            "Requirement already satisfied: ml-dtypes in /usr/local/lib/python3.10/dist-packages (from keras) (0.4.1)\n",
            "Requirement already satisfied: packaging in /usr/local/lib/python3.10/dist-packages (from keras) (24.1)\n",
            "Requirement already satisfied: typing-extensions>=4.5.0 in /usr/local/lib/python3.10/dist-packages (from optree->keras) (4.12.2)\n",
            "Requirement already satisfied: markdown-it-py>=2.2.0 in /usr/local/lib/python3.10/dist-packages (from rich->keras) (3.0.0)\n",
            "Requirement already satisfied: pygments<3.0.0,>=2.13.0 in /usr/local/lib/python3.10/dist-packages (from rich->keras) (2.18.0)\n",
            "Requirement already satisfied: mdurl~=0.1 in /usr/local/lib/python3.10/dist-packages (from markdown-it-py>=2.2.0->rich->keras) (0.1.2)\n",
            "Requirement already satisfied: keras-tuner in /usr/local/lib/python3.10/dist-packages (1.4.7)\n",
            "Requirement already satisfied: keras in /usr/local/lib/python3.10/dist-packages (from keras-tuner) (3.4.1)\n",
            "Requirement already satisfied: packaging in /usr/local/lib/python3.10/dist-packages (from keras-tuner) (24.1)\n",
            "Requirement already satisfied: requests in /usr/local/lib/python3.10/dist-packages (from keras-tuner) (2.32.3)\n",
            "Requirement already satisfied: kt-legacy in /usr/local/lib/python3.10/dist-packages (from keras-tuner) (1.0.5)\n",
            "Requirement already satisfied: absl-py in /usr/local/lib/python3.10/dist-packages (from keras->keras-tuner) (1.4.0)\n",
            "Requirement already satisfied: numpy in /usr/local/lib/python3.10/dist-packages (from keras->keras-tuner) (1.26.4)\n",
            "Requirement already satisfied: rich in /usr/local/lib/python3.10/dist-packages (from keras->keras-tuner) (13.9.1)\n",
            "Requirement already satisfied: namex in /usr/local/lib/python3.10/dist-packages (from keras->keras-tuner) (0.0.8)\n",
            "Requirement already satisfied: h5py in /usr/local/lib/python3.10/dist-packages (from keras->keras-tuner) (3.11.0)\n",
            "Requirement already satisfied: optree in /usr/local/lib/python3.10/dist-packages (from keras->keras-tuner) (0.13.0)\n",
            "Requirement already satisfied: ml-dtypes in /usr/local/lib/python3.10/dist-packages (from keras->keras-tuner) (0.4.1)\n",
            "Requirement already satisfied: charset-normalizer<4,>=2 in /usr/local/lib/python3.10/dist-packages (from requests->keras-tuner) (3.3.2)\n",
            "Requirement already satisfied: idna<4,>=2.5 in /usr/local/lib/python3.10/dist-packages (from requests->keras-tuner) (3.10)\n",
            "Requirement already satisfied: urllib3<3,>=1.21.1 in /usr/local/lib/python3.10/dist-packages (from requests->keras-tuner) (2.2.3)\n",
            "Requirement already satisfied: certifi>=2017.4.17 in /usr/local/lib/python3.10/dist-packages (from requests->keras-tuner) (2024.8.30)\n",
            "Requirement already satisfied: typing-extensions>=4.5.0 in /usr/local/lib/python3.10/dist-packages (from optree->keras->keras-tuner) (4.12.2)\n",
            "Requirement already satisfied: markdown-it-py>=2.2.0 in /usr/local/lib/python3.10/dist-packages (from rich->keras->keras-tuner) (3.0.0)\n",
            "Requirement already satisfied: pygments<3.0.0,>=2.13.0 in /usr/local/lib/python3.10/dist-packages (from rich->keras->keras-tuner) (2.18.0)\n",
            "Requirement already satisfied: mdurl~=0.1 in /usr/local/lib/python3.10/dist-packages (from markdown-it-py>=2.2.0->rich->keras->keras-tuner) (0.1.2)\n",
            "Requirement already satisfied: ann_visualizer in /usr/local/lib/python3.10/dist-packages (2.5)\n",
            "Requirement already satisfied: graphviz in /usr/local/lib/python3.10/dist-packages (0.20.3)\n",
            "Requirement already satisfied: h5py in /usr/local/lib/python3.10/dist-packages (3.11.0)\n",
            "Requirement already satisfied: numpy>=1.17.3 in /usr/local/lib/python3.10/dist-packages (from h5py) (1.26.4)\n",
            "Requirement already satisfied: scikit-learn in /usr/local/lib/python3.10/dist-packages (1.5.2)\n",
            "Requirement already satisfied: haversine in /usr/local/lib/python3.10/dist-packages (2.8.1)\n",
            "Requirement already satisfied: numpy>=1.19.5 in /usr/local/lib/python3.10/dist-packages (from scikit-learn) (1.26.4)\n",
            "Requirement already satisfied: scipy>=1.6.0 in /usr/local/lib/python3.10/dist-packages (from scikit-learn) (1.13.1)\n",
            "Requirement already satisfied: joblib>=1.2.0 in /usr/local/lib/python3.10/dist-packages (from scikit-learn) (1.4.2)\n",
            "Requirement already satisfied: threadpoolctl>=3.1.0 in /usr/local/lib/python3.10/dist-packages (from scikit-learn) (3.5.0)\n",
            "Requirement already satisfied: keras in /usr/local/lib/python3.10/dist-packages (3.4.1)\n",
            "Requirement already satisfied: scikit-learn in /usr/local/lib/python3.10/dist-packages (1.5.2)\n",
            "Requirement already satisfied: bayesian-optimization in /usr/local/lib/python3.10/dist-packages (1.5.1)\n",
            "Requirement already satisfied: absl-py in /usr/local/lib/python3.10/dist-packages (from keras) (1.4.0)\n",
            "Requirement already satisfied: numpy in /usr/local/lib/python3.10/dist-packages (from keras) (1.26.4)\n",
            "Requirement already satisfied: rich in /usr/local/lib/python3.10/dist-packages (from keras) (13.9.1)\n",
            "Requirement already satisfied: namex in /usr/local/lib/python3.10/dist-packages (from keras) (0.0.8)\n",
            "Requirement already satisfied: h5py in /usr/local/lib/python3.10/dist-packages (from keras) (3.11.0)\n",
            "Requirement already satisfied: optree in /usr/local/lib/python3.10/dist-packages (from keras) (0.13.0)\n",
            "Requirement already satisfied: ml-dtypes in /usr/local/lib/python3.10/dist-packages (from keras) (0.4.1)\n",
            "Requirement already satisfied: packaging in /usr/local/lib/python3.10/dist-packages (from keras) (24.1)\n",
            "Requirement already satisfied: scipy>=1.6.0 in /usr/local/lib/python3.10/dist-packages (from scikit-learn) (1.13.1)\n",
            "Requirement already satisfied: joblib>=1.2.0 in /usr/local/lib/python3.10/dist-packages (from scikit-learn) (1.4.2)\n",
            "Requirement already satisfied: threadpoolctl>=3.1.0 in /usr/local/lib/python3.10/dist-packages (from scikit-learn) (3.5.0)\n",
            "Requirement already satisfied: colorama<0.5.0,>=0.4.6 in /usr/local/lib/python3.10/dist-packages (from bayesian-optimization) (0.4.6)\n",
            "Requirement already satisfied: typing-extensions>=4.5.0 in /usr/local/lib/python3.10/dist-packages (from optree->keras) (4.12.2)\n",
            "Requirement already satisfied: markdown-it-py>=2.2.0 in /usr/local/lib/python3.10/dist-packages (from rich->keras) (3.0.0)\n",
            "Requirement already satisfied: pygments<3.0.0,>=2.13.0 in /usr/local/lib/python3.10/dist-packages (from rich->keras) (2.18.0)\n",
            "Requirement already satisfied: mdurl~=0.1 in /usr/local/lib/python3.10/dist-packages (from markdown-it-py>=2.2.0->rich->keras) (0.1.2)\n"
          ]
        }
      ],
      "source": [
        "!pip install keras\n",
        "!pip install keras-tuner\n",
        "!pip install ann_visualizer\n",
        "!pip install graphviz\n",
        "!pip install h5py\n",
        "!pip install scikit-learn haversine\n",
        "!pip install keras scikit-learn bayesian-optimization"
      ]
    },
    {
      "cell_type": "markdown",
      "metadata": {
        "id": "VPV1uRWBM9ry"
      },
      "source": [
        "##Importação das bibliotecas"
      ]
    },
    {
      "cell_type": "code",
      "execution_count": 5,
      "metadata": {
        "id": "OZNhfyx2NHz1"
      },
      "outputs": [],
      "source": [
        "import pandas as pd\n",
        "from imblearn.over_sampling import SMOTE\n",
        "from imblearn.under_sampling import RandomUnderSampler\n",
        "import numpy as np\n",
        "import pandas as pd\n",
        "from sklearn.model_selection import train_test_split\n",
        "from imblearn.over_sampling import SMOTE\n",
        "from keras.models import Sequential\n",
        "from keras.layers import Dense\n",
        "from keras import optimizers\n",
        "from keras_tuner import RandomSearch\n",
        "import pandas as pd\n",
        "from collections import Counter\n",
        "import numpy as np\n",
        "from sklearn.model_selection import train_test_split\n",
        "from sklearn.preprocessing import StandardScaler\n",
        "import plotly.express as px\n",
        "import datetime\n",
        "from keras.utils import plot_model\n",
        "import tensorflow as tf\n",
        "from keras.optimizers import Adam\n",
        "from keras.callbacks import EarlyStopping\n",
        "from sklearn.model_selection import train_test_split\n",
        "from sklearn.metrics import accuracy_score, f1_score, log_loss\n",
        "from bayes_opt import BayesianOptimization\n",
        "from keras.models import Sequential\n",
        "from google.colab import drive\n",
        "from keras.layers import Dense"
      ]
    },
    {
      "cell_type": "markdown",
      "metadata": {
        "id": "F7BFqwGyKuBs"
      },
      "source": [
        "#Carregamento e visualização dos dados"
      ]
    },
    {
      "cell_type": "markdown",
      "metadata": {
        "id": "SGbBwvQRRcXN"
      },
      "source": [
        "##Carregando os dados"
      ]
    },
    {
      "cell_type": "code",
      "execution_count": 6,
      "metadata": {
        "colab": {
          "base_uri": "https://localhost:8080/",
          "height": 290
        },
        "id": "c4pfq-UtNTA_",
        "outputId": "71b43dee-fae1-44be-b9b2-86b05c1927ed"
      },
      "outputs": [
        {
          "output_type": "stream",
          "name": "stdout",
          "text": [
            "Mounted at /content/drive\n"
          ]
        },
        {
          "output_type": "execute_result",
          "data": {
            "text/plain": [
              "   MATRICULA_NaT  CATEGORIA_COMERCIAL_2019-01-01 00:00:00  \\\n",
              "0       17000001                                      0.0   \n",
              "1       17075331                                      1.0   \n",
              "2       17075333                                      1.0   \n",
              "3       17075335                                      1.0   \n",
              "4       17075336                                      0.0   \n",
              "\n",
              "   CATEGORIA_COMERCIAL_2019-02-01 00:00:00  \\\n",
              "0                                      0.0   \n",
              "1                                      1.0   \n",
              "2                                      1.0   \n",
              "3                                      1.0   \n",
              "4                                      0.0   \n",
              "\n",
              "   CATEGORIA_COMERCIAL_2019-03-01 00:00:00  \\\n",
              "0                                      0.0   \n",
              "1                                      1.0   \n",
              "2                                      1.0   \n",
              "3                                      1.0   \n",
              "4                                      0.0   \n",
              "\n",
              "   CATEGORIA_COMERCIAL_2019-04-01 00:00:00  \\\n",
              "0                                      0.0   \n",
              "1                                      1.0   \n",
              "2                                      1.0   \n",
              "3                                      1.0   \n",
              "4                                      0.0   \n",
              "\n",
              "   CATEGORIA_COMERCIAL_2019-05-01 00:00:00  \\\n",
              "0                                      0.0   \n",
              "1                                      1.0   \n",
              "2                                      1.0   \n",
              "3                                      1.0   \n",
              "4                                      0.0   \n",
              "\n",
              "   CATEGORIA_COMERCIAL_2019-06-01 00:00:00  \\\n",
              "0                                      0.0   \n",
              "1                                      1.0   \n",
              "2                                      1.0   \n",
              "3                                      1.0   \n",
              "4                                      0.0   \n",
              "\n",
              "   CATEGORIA_COMERCIAL_2019-07-01 00:00:00  \\\n",
              "0                                      0.0   \n",
              "1                                      1.0   \n",
              "2                                      1.0   \n",
              "3                                      1.0   \n",
              "4                                      0.0   \n",
              "\n",
              "   CATEGORIA_COMERCIAL_2019-08-01 00:00:00  \\\n",
              "0                                      0.0   \n",
              "1                                      1.0   \n",
              "2                                      1.0   \n",
              "3                                      1.0   \n",
              "4                                      0.0   \n",
              "\n",
              "   CATEGORIA_COMERCIAL_2019-09-01 00:00:00  ...  feature_503  feature_504  \\\n",
              "0                                      0.0  ...    -0.406525          0.0   \n",
              "1                                      1.0  ...    -0.308187          0.0   \n",
              "2                                      1.0  ...    -0.308187          0.0   \n",
              "3                                      1.0  ...    -0.308187          0.0   \n",
              "4                                      0.0  ...    -0.308187          0.0   \n",
              "\n",
              "   feature_505  feature_506  feature_507  feature_508  feature_509  \\\n",
              "0     0.274805    -0.235090    -0.456189    -0.201091     0.689645   \n",
              "1     0.693426    -0.289046     0.682932     0.399495     0.758024   \n",
              "2     0.693426    -0.289046     0.682932     0.399495     0.758024   \n",
              "3     0.693426    -0.289046     0.682932     0.399495     0.758024   \n",
              "4     0.693426    -0.289046     0.682932     0.399495     0.758024   \n",
              "\n",
              "   feature_510  feature_511  FRAUDE  \n",
              "0     1.712319     0.254239       0  \n",
              "1     0.582130     0.434080       0  \n",
              "2     0.582130     0.434080       0  \n",
              "3     0.582130     0.434080       1  \n",
              "4     0.582130     0.434080       1  \n",
              "\n",
              "[5 rows x 828 columns]"
            ],
            "text/html": [
              "\n",
              "  <div id=\"df-292957d5-c3fe-4417-81fd-7f921df0301d\" class=\"colab-df-container\">\n",
              "    <div>\n",
              "<style scoped>\n",
              "    .dataframe tbody tr th:only-of-type {\n",
              "        vertical-align: middle;\n",
              "    }\n",
              "\n",
              "    .dataframe tbody tr th {\n",
              "        vertical-align: top;\n",
              "    }\n",
              "\n",
              "    .dataframe thead th {\n",
              "        text-align: right;\n",
              "    }\n",
              "</style>\n",
              "<table border=\"1\" class=\"dataframe\">\n",
              "  <thead>\n",
              "    <tr style=\"text-align: right;\">\n",
              "      <th></th>\n",
              "      <th>MATRICULA_NaT</th>\n",
              "      <th>CATEGORIA_COMERCIAL_2019-01-01 00:00:00</th>\n",
              "      <th>CATEGORIA_COMERCIAL_2019-02-01 00:00:00</th>\n",
              "      <th>CATEGORIA_COMERCIAL_2019-03-01 00:00:00</th>\n",
              "      <th>CATEGORIA_COMERCIAL_2019-04-01 00:00:00</th>\n",
              "      <th>CATEGORIA_COMERCIAL_2019-05-01 00:00:00</th>\n",
              "      <th>CATEGORIA_COMERCIAL_2019-06-01 00:00:00</th>\n",
              "      <th>CATEGORIA_COMERCIAL_2019-07-01 00:00:00</th>\n",
              "      <th>CATEGORIA_COMERCIAL_2019-08-01 00:00:00</th>\n",
              "      <th>CATEGORIA_COMERCIAL_2019-09-01 00:00:00</th>\n",
              "      <th>...</th>\n",
              "      <th>feature_503</th>\n",
              "      <th>feature_504</th>\n",
              "      <th>feature_505</th>\n",
              "      <th>feature_506</th>\n",
              "      <th>feature_507</th>\n",
              "      <th>feature_508</th>\n",
              "      <th>feature_509</th>\n",
              "      <th>feature_510</th>\n",
              "      <th>feature_511</th>\n",
              "      <th>FRAUDE</th>\n",
              "    </tr>\n",
              "  </thead>\n",
              "  <tbody>\n",
              "    <tr>\n",
              "      <th>0</th>\n",
              "      <td>17000001</td>\n",
              "      <td>0.0</td>\n",
              "      <td>0.0</td>\n",
              "      <td>0.0</td>\n",
              "      <td>0.0</td>\n",
              "      <td>0.0</td>\n",
              "      <td>0.0</td>\n",
              "      <td>0.0</td>\n",
              "      <td>0.0</td>\n",
              "      <td>0.0</td>\n",
              "      <td>...</td>\n",
              "      <td>-0.406525</td>\n",
              "      <td>0.0</td>\n",
              "      <td>0.274805</td>\n",
              "      <td>-0.235090</td>\n",
              "      <td>-0.456189</td>\n",
              "      <td>-0.201091</td>\n",
              "      <td>0.689645</td>\n",
              "      <td>1.712319</td>\n",
              "      <td>0.254239</td>\n",
              "      <td>0</td>\n",
              "    </tr>\n",
              "    <tr>\n",
              "      <th>1</th>\n",
              "      <td>17075331</td>\n",
              "      <td>1.0</td>\n",
              "      <td>1.0</td>\n",
              "      <td>1.0</td>\n",
              "      <td>1.0</td>\n",
              "      <td>1.0</td>\n",
              "      <td>1.0</td>\n",
              "      <td>1.0</td>\n",
              "      <td>1.0</td>\n",
              "      <td>1.0</td>\n",
              "      <td>...</td>\n",
              "      <td>-0.308187</td>\n",
              "      <td>0.0</td>\n",
              "      <td>0.693426</td>\n",
              "      <td>-0.289046</td>\n",
              "      <td>0.682932</td>\n",
              "      <td>0.399495</td>\n",
              "      <td>0.758024</td>\n",
              "      <td>0.582130</td>\n",
              "      <td>0.434080</td>\n",
              "      <td>0</td>\n",
              "    </tr>\n",
              "    <tr>\n",
              "      <th>2</th>\n",
              "      <td>17075333</td>\n",
              "      <td>1.0</td>\n",
              "      <td>1.0</td>\n",
              "      <td>1.0</td>\n",
              "      <td>1.0</td>\n",
              "      <td>1.0</td>\n",
              "      <td>1.0</td>\n",
              "      <td>1.0</td>\n",
              "      <td>1.0</td>\n",
              "      <td>1.0</td>\n",
              "      <td>...</td>\n",
              "      <td>-0.308187</td>\n",
              "      <td>0.0</td>\n",
              "      <td>0.693426</td>\n",
              "      <td>-0.289046</td>\n",
              "      <td>0.682932</td>\n",
              "      <td>0.399495</td>\n",
              "      <td>0.758024</td>\n",
              "      <td>0.582130</td>\n",
              "      <td>0.434080</td>\n",
              "      <td>0</td>\n",
              "    </tr>\n",
              "    <tr>\n",
              "      <th>3</th>\n",
              "      <td>17075335</td>\n",
              "      <td>1.0</td>\n",
              "      <td>1.0</td>\n",
              "      <td>1.0</td>\n",
              "      <td>1.0</td>\n",
              "      <td>1.0</td>\n",
              "      <td>1.0</td>\n",
              "      <td>1.0</td>\n",
              "      <td>1.0</td>\n",
              "      <td>1.0</td>\n",
              "      <td>...</td>\n",
              "      <td>-0.308187</td>\n",
              "      <td>0.0</td>\n",
              "      <td>0.693426</td>\n",
              "      <td>-0.289046</td>\n",
              "      <td>0.682932</td>\n",
              "      <td>0.399495</td>\n",
              "      <td>0.758024</td>\n",
              "      <td>0.582130</td>\n",
              "      <td>0.434080</td>\n",
              "      <td>1</td>\n",
              "    </tr>\n",
              "    <tr>\n",
              "      <th>4</th>\n",
              "      <td>17075336</td>\n",
              "      <td>0.0</td>\n",
              "      <td>0.0</td>\n",
              "      <td>0.0</td>\n",
              "      <td>0.0</td>\n",
              "      <td>0.0</td>\n",
              "      <td>0.0</td>\n",
              "      <td>0.0</td>\n",
              "      <td>0.0</td>\n",
              "      <td>0.0</td>\n",
              "      <td>...</td>\n",
              "      <td>-0.308187</td>\n",
              "      <td>0.0</td>\n",
              "      <td>0.693426</td>\n",
              "      <td>-0.289046</td>\n",
              "      <td>0.682932</td>\n",
              "      <td>0.399495</td>\n",
              "      <td>0.758024</td>\n",
              "      <td>0.582130</td>\n",
              "      <td>0.434080</td>\n",
              "      <td>1</td>\n",
              "    </tr>\n",
              "  </tbody>\n",
              "</table>\n",
              "<p>5 rows × 828 columns</p>\n",
              "</div>\n",
              "    <div class=\"colab-df-buttons\">\n",
              "\n",
              "  <div class=\"colab-df-container\">\n",
              "    <button class=\"colab-df-convert\" onclick=\"convertToInteractive('df-292957d5-c3fe-4417-81fd-7f921df0301d')\"\n",
              "            title=\"Convert this dataframe to an interactive table.\"\n",
              "            style=\"display:none;\">\n",
              "\n",
              "  <svg xmlns=\"http://www.w3.org/2000/svg\" height=\"24px\" viewBox=\"0 -960 960 960\">\n",
              "    <path d=\"M120-120v-720h720v720H120Zm60-500h600v-160H180v160Zm220 220h160v-160H400v160Zm0 220h160v-160H400v160ZM180-400h160v-160H180v160Zm440 0h160v-160H620v160ZM180-180h160v-160H180v160Zm440 0h160v-160H620v160Z\"/>\n",
              "  </svg>\n",
              "    </button>\n",
              "\n",
              "  <style>\n",
              "    .colab-df-container {\n",
              "      display:flex;\n",
              "      gap: 12px;\n",
              "    }\n",
              "\n",
              "    .colab-df-convert {\n",
              "      background-color: #E8F0FE;\n",
              "      border: none;\n",
              "      border-radius: 50%;\n",
              "      cursor: pointer;\n",
              "      display: none;\n",
              "      fill: #1967D2;\n",
              "      height: 32px;\n",
              "      padding: 0 0 0 0;\n",
              "      width: 32px;\n",
              "    }\n",
              "\n",
              "    .colab-df-convert:hover {\n",
              "      background-color: #E2EBFA;\n",
              "      box-shadow: 0px 1px 2px rgba(60, 64, 67, 0.3), 0px 1px 3px 1px rgba(60, 64, 67, 0.15);\n",
              "      fill: #174EA6;\n",
              "    }\n",
              "\n",
              "    .colab-df-buttons div {\n",
              "      margin-bottom: 4px;\n",
              "    }\n",
              "\n",
              "    [theme=dark] .colab-df-convert {\n",
              "      background-color: #3B4455;\n",
              "      fill: #D2E3FC;\n",
              "    }\n",
              "\n",
              "    [theme=dark] .colab-df-convert:hover {\n",
              "      background-color: #434B5C;\n",
              "      box-shadow: 0px 1px 3px 1px rgba(0, 0, 0, 0.15);\n",
              "      filter: drop-shadow(0px 1px 2px rgba(0, 0, 0, 0.3));\n",
              "      fill: #FFFFFF;\n",
              "    }\n",
              "  </style>\n",
              "\n",
              "    <script>\n",
              "      const buttonEl =\n",
              "        document.querySelector('#df-292957d5-c3fe-4417-81fd-7f921df0301d button.colab-df-convert');\n",
              "      buttonEl.style.display =\n",
              "        google.colab.kernel.accessAllowed ? 'block' : 'none';\n",
              "\n",
              "      async function convertToInteractive(key) {\n",
              "        const element = document.querySelector('#df-292957d5-c3fe-4417-81fd-7f921df0301d');\n",
              "        const dataTable =\n",
              "          await google.colab.kernel.invokeFunction('convertToInteractive',\n",
              "                                                    [key], {});\n",
              "        if (!dataTable) return;\n",
              "\n",
              "        const docLinkHtml = 'Like what you see? Visit the ' +\n",
              "          '<a target=\"_blank\" href=https://colab.research.google.com/notebooks/data_table.ipynb>data table notebook</a>'\n",
              "          + ' to learn more about interactive tables.';\n",
              "        element.innerHTML = '';\n",
              "        dataTable['output_type'] = 'display_data';\n",
              "        await google.colab.output.renderOutput(dataTable, element);\n",
              "        const docLink = document.createElement('div');\n",
              "        docLink.innerHTML = docLinkHtml;\n",
              "        element.appendChild(docLink);\n",
              "      }\n",
              "    </script>\n",
              "  </div>\n",
              "\n",
              "\n",
              "<div id=\"df-15591614-e2d9-413b-955b-f614b461421b\">\n",
              "  <button class=\"colab-df-quickchart\" onclick=\"quickchart('df-15591614-e2d9-413b-955b-f614b461421b')\"\n",
              "            title=\"Suggest charts\"\n",
              "            style=\"display:none;\">\n",
              "\n",
              "<svg xmlns=\"http://www.w3.org/2000/svg\" height=\"24px\"viewBox=\"0 0 24 24\"\n",
              "     width=\"24px\">\n",
              "    <g>\n",
              "        <path d=\"M19 3H5c-1.1 0-2 .9-2 2v14c0 1.1.9 2 2 2h14c1.1 0 2-.9 2-2V5c0-1.1-.9-2-2-2zM9 17H7v-7h2v7zm4 0h-2V7h2v10zm4 0h-2v-4h2v4z\"/>\n",
              "    </g>\n",
              "</svg>\n",
              "  </button>\n",
              "\n",
              "<style>\n",
              "  .colab-df-quickchart {\n",
              "      --bg-color: #E8F0FE;\n",
              "      --fill-color: #1967D2;\n",
              "      --hover-bg-color: #E2EBFA;\n",
              "      --hover-fill-color: #174EA6;\n",
              "      --disabled-fill-color: #AAA;\n",
              "      --disabled-bg-color: #DDD;\n",
              "  }\n",
              "\n",
              "  [theme=dark] .colab-df-quickchart {\n",
              "      --bg-color: #3B4455;\n",
              "      --fill-color: #D2E3FC;\n",
              "      --hover-bg-color: #434B5C;\n",
              "      --hover-fill-color: #FFFFFF;\n",
              "      --disabled-bg-color: #3B4455;\n",
              "      --disabled-fill-color: #666;\n",
              "  }\n",
              "\n",
              "  .colab-df-quickchart {\n",
              "    background-color: var(--bg-color);\n",
              "    border: none;\n",
              "    border-radius: 50%;\n",
              "    cursor: pointer;\n",
              "    display: none;\n",
              "    fill: var(--fill-color);\n",
              "    height: 32px;\n",
              "    padding: 0;\n",
              "    width: 32px;\n",
              "  }\n",
              "\n",
              "  .colab-df-quickchart:hover {\n",
              "    background-color: var(--hover-bg-color);\n",
              "    box-shadow: 0 1px 2px rgba(60, 64, 67, 0.3), 0 1px 3px 1px rgba(60, 64, 67, 0.15);\n",
              "    fill: var(--button-hover-fill-color);\n",
              "  }\n",
              "\n",
              "  .colab-df-quickchart-complete:disabled,\n",
              "  .colab-df-quickchart-complete:disabled:hover {\n",
              "    background-color: var(--disabled-bg-color);\n",
              "    fill: var(--disabled-fill-color);\n",
              "    box-shadow: none;\n",
              "  }\n",
              "\n",
              "  .colab-df-spinner {\n",
              "    border: 2px solid var(--fill-color);\n",
              "    border-color: transparent;\n",
              "    border-bottom-color: var(--fill-color);\n",
              "    animation:\n",
              "      spin 1s steps(1) infinite;\n",
              "  }\n",
              "\n",
              "  @keyframes spin {\n",
              "    0% {\n",
              "      border-color: transparent;\n",
              "      border-bottom-color: var(--fill-color);\n",
              "      border-left-color: var(--fill-color);\n",
              "    }\n",
              "    20% {\n",
              "      border-color: transparent;\n",
              "      border-left-color: var(--fill-color);\n",
              "      border-top-color: var(--fill-color);\n",
              "    }\n",
              "    30% {\n",
              "      border-color: transparent;\n",
              "      border-left-color: var(--fill-color);\n",
              "      border-top-color: var(--fill-color);\n",
              "      border-right-color: var(--fill-color);\n",
              "    }\n",
              "    40% {\n",
              "      border-color: transparent;\n",
              "      border-right-color: var(--fill-color);\n",
              "      border-top-color: var(--fill-color);\n",
              "    }\n",
              "    60% {\n",
              "      border-color: transparent;\n",
              "      border-right-color: var(--fill-color);\n",
              "    }\n",
              "    80% {\n",
              "      border-color: transparent;\n",
              "      border-right-color: var(--fill-color);\n",
              "      border-bottom-color: var(--fill-color);\n",
              "    }\n",
              "    90% {\n",
              "      border-color: transparent;\n",
              "      border-bottom-color: var(--fill-color);\n",
              "    }\n",
              "  }\n",
              "</style>\n",
              "\n",
              "  <script>\n",
              "    async function quickchart(key) {\n",
              "      const quickchartButtonEl =\n",
              "        document.querySelector('#' + key + ' button');\n",
              "      quickchartButtonEl.disabled = true;  // To prevent multiple clicks.\n",
              "      quickchartButtonEl.classList.add('colab-df-spinner');\n",
              "      try {\n",
              "        const charts = await google.colab.kernel.invokeFunction(\n",
              "            'suggestCharts', [key], {});\n",
              "      } catch (error) {\n",
              "        console.error('Error during call to suggestCharts:', error);\n",
              "      }\n",
              "      quickchartButtonEl.classList.remove('colab-df-spinner');\n",
              "      quickchartButtonEl.classList.add('colab-df-quickchart-complete');\n",
              "    }\n",
              "    (() => {\n",
              "      let quickchartButtonEl =\n",
              "        document.querySelector('#df-15591614-e2d9-413b-955b-f614b461421b button');\n",
              "      quickchartButtonEl.style.display =\n",
              "        google.colab.kernel.accessAllowed ? 'block' : 'none';\n",
              "    })();\n",
              "  </script>\n",
              "</div>\n",
              "\n",
              "    </div>\n",
              "  </div>\n"
            ],
            "application/vnd.google.colaboratory.intrinsic+json": {
              "type": "dataframe",
              "variable_name": "df"
            }
          },
          "metadata": {},
          "execution_count": 6
        }
      ],
      "source": [
        "drive.mount('/content/drive')\n",
        "file_path = '/content/drive/Shareddrives/M11_SI/final_base2.parquet'\n",
        "df = pd.read_parquet(file_path)\n",
        "\n",
        "df.head()"
      ]
    },
    {
      "cell_type": "markdown",
      "metadata": {
        "id": "LQGNKSEQRpre"
      },
      "source": [
        "##Breve visualização dos dados tratados"
      ]
    },
    {
      "cell_type": "code",
      "execution_count": 7,
      "metadata": {
        "colab": {
          "base_uri": "https://localhost:8080/"
        },
        "id": "aYtdiRqTRoRS",
        "outputId": "39266620-219c-44de-98f2-ca6eec3cbbde"
      },
      "outputs": [
        {
          "output_type": "stream",
          "name": "stdout",
          "text": [
            "<class 'pandas.core.frame.DataFrame'>\n",
            "RangeIndex: 379575 entries, 0 to 379574\n",
            "Columns: 828 entries, MATRICULA_NaT to FRAUDE\n",
            "dtypes: float64(801), int64(3), object(24)\n",
            "memory usage: 2.3+ GB\n"
          ]
        }
      ],
      "source": [
        "#colunas e tipos de dados\n",
        "df.info()"
      ]
    },
    {
      "cell_type": "code",
      "execution_count": 8,
      "metadata": {
        "colab": {
          "base_uri": "https://localhost:8080/"
        },
        "id": "kWcD2d-hR68I",
        "outputId": "c314214b-6b82-4249-d367-add9b1626149"
      },
      "outputs": [
        {
          "output_type": "execute_result",
          "data": {
            "text/plain": [
              "(379575, 828)"
            ]
          },
          "metadata": {},
          "execution_count": 8
        }
      ],
      "source": [
        "#Quantidade de linhas e colunas\n",
        "df.shape"
      ]
    },
    {
      "cell_type": "code",
      "execution_count": 9,
      "metadata": {
        "colab": {
          "base_uri": "https://localhost:8080/",
          "height": 367
        },
        "id": "kl7cR0SJSBed",
        "outputId": "8075d380-7f05-4d8a-b55a-293d213102ed"
      },
      "outputs": [
        {
          "output_type": "execute_result",
          "data": {
            "text/plain": [
              "       MATRICULA_NaT  CATEGORIA_COMERCIAL_2019-01-01 00:00:00  \\\n",
              "count   3.795750e+05                            379575.000000   \n",
              "mean    1.764489e+07                                 0.075735   \n",
              "std     2.895757e+05                                 0.264574   \n",
              "min     1.700000e+07                                 0.000000   \n",
              "25%     1.735924e+07                                 0.000000   \n",
              "50%     1.778456e+07                                 0.000000   \n",
              "75%     1.788381e+07                                 0.000000   \n",
              "max     1.798557e+07                                 1.000000   \n",
              "\n",
              "       CATEGORIA_COMERCIAL_2019-02-01 00:00:00  \\\n",
              "count                            379575.000000   \n",
              "mean                                  0.075716   \n",
              "std                                   0.264544   \n",
              "min                                   0.000000   \n",
              "25%                                   0.000000   \n",
              "50%                                   0.000000   \n",
              "75%                                   0.000000   \n",
              "max                                   1.000000   \n",
              "\n",
              "       CATEGORIA_COMERCIAL_2019-03-01 00:00:00  \\\n",
              "count                            379575.000000   \n",
              "mean                                  0.075569   \n",
              "std                                   0.264307   \n",
              "min                                   0.000000   \n",
              "25%                                   0.000000   \n",
              "50%                                   0.000000   \n",
              "75%                                   0.000000   \n",
              "max                                   1.000000   \n",
              "\n",
              "       CATEGORIA_COMERCIAL_2019-04-01 00:00:00  \\\n",
              "count                            379575.000000   \n",
              "mean                                  0.075484   \n",
              "std                                   0.264172   \n",
              "min                                   0.000000   \n",
              "25%                                   0.000000   \n",
              "50%                                   0.000000   \n",
              "75%                                   0.000000   \n",
              "max                                   1.000000   \n",
              "\n",
              "       CATEGORIA_COMERCIAL_2019-05-01 00:00:00  \\\n",
              "count                            379575.000000   \n",
              "mean                                  0.075495   \n",
              "std                                   0.264189   \n",
              "min                                   0.000000   \n",
              "25%                                   0.000000   \n",
              "50%                                   0.000000   \n",
              "75%                                   0.000000   \n",
              "max                                   1.000000   \n",
              "\n",
              "       CATEGORIA_COMERCIAL_2019-06-01 00:00:00  \\\n",
              "count                            379575.000000   \n",
              "mean                                  0.075432   \n",
              "std                                   0.264087   \n",
              "min                                   0.000000   \n",
              "25%                                   0.000000   \n",
              "50%                                   0.000000   \n",
              "75%                                   0.000000   \n",
              "max                                   1.000000   \n",
              "\n",
              "       CATEGORIA_COMERCIAL_2019-07-01 00:00:00  \\\n",
              "count                            379575.000000   \n",
              "mean                                  0.075353   \n",
              "std                                   0.263960   \n",
              "min                                   0.000000   \n",
              "25%                                   0.000000   \n",
              "50%                                   0.000000   \n",
              "75%                                   0.000000   \n",
              "max                                   1.000000   \n",
              "\n",
              "       CATEGORIA_COMERCIAL_2019-08-01 00:00:00  \\\n",
              "count                            379575.000000   \n",
              "mean                                  0.075139   \n",
              "std                                   0.263616   \n",
              "min                                   0.000000   \n",
              "25%                                   0.000000   \n",
              "50%                                   0.000000   \n",
              "75%                                   0.000000   \n",
              "max                                   1.000000   \n",
              "\n",
              "       CATEGORIA_COMERCIAL_2019-09-01 00:00:00  ...    feature_503  \\\n",
              "count                            379575.000000  ...  379554.000000   \n",
              "mean                                  0.075095  ...       0.339136   \n",
              "std                                   0.263544  ...       1.030344   \n",
              "min                                   0.000000  ...      -0.509131   \n",
              "25%                                   0.000000  ...      -0.343662   \n",
              "50%                                   0.000000  ...       0.000000   \n",
              "75%                                   0.000000  ...       0.656338   \n",
              "max                                   1.000000  ...       9.926554   \n",
              "\n",
              "         feature_504    feature_505    feature_506    feature_507  \\\n",
              "count  379554.000000  379554.000000  379554.000000  379554.000000   \n",
              "mean        0.067815       0.418885       0.504726       0.239797   \n",
              "std         0.268031       1.240494       1.313272       0.908663   \n",
              "min         0.000000      -0.422257      -0.289046      -0.643034   \n",
              "25%         0.000000      -0.320372      -0.284548      -0.400940   \n",
              "50%         0.000000       0.000000       0.000000       0.000000   \n",
              "75%         0.000000       0.679628       0.715452       0.599060   \n",
              "max         7.124459      13.588117      25.688940      14.845436   \n",
              "\n",
              "         feature_508    feature_509    feature_510    feature_511  \\\n",
              "count  379554.000000  379554.000000  379554.000000  379554.000000   \n",
              "mean        0.242035       0.779648       0.201204       0.345470   \n",
              "std         0.836946       1.498094       0.869290       1.014762   \n",
              "min        -0.662401      -0.020646      -0.885798      -0.435542   \n",
              "25%        -0.379809      -0.020646      -0.418429      -0.328626   \n",
              "50%         0.000000       0.000000       0.000000       0.000000   \n",
              "75%         0.620191       0.979354       0.581571       0.671374   \n",
              "max         6.760050      18.437627       9.377607      14.029310   \n",
              "\n",
              "              FRAUDE  \n",
              "count  379575.000000  \n",
              "mean        0.324047  \n",
              "std         0.468018  \n",
              "min         0.000000  \n",
              "25%         0.000000  \n",
              "50%         0.000000  \n",
              "75%         1.000000  \n",
              "max         1.000000  \n",
              "\n",
              "[8 rows x 804 columns]"
            ],
            "text/html": [
              "\n",
              "  <div id=\"df-5dc9f300-6d1e-4671-801a-ab35fd5280b2\" class=\"colab-df-container\">\n",
              "    <div>\n",
              "<style scoped>\n",
              "    .dataframe tbody tr th:only-of-type {\n",
              "        vertical-align: middle;\n",
              "    }\n",
              "\n",
              "    .dataframe tbody tr th {\n",
              "        vertical-align: top;\n",
              "    }\n",
              "\n",
              "    .dataframe thead th {\n",
              "        text-align: right;\n",
              "    }\n",
              "</style>\n",
              "<table border=\"1\" class=\"dataframe\">\n",
              "  <thead>\n",
              "    <tr style=\"text-align: right;\">\n",
              "      <th></th>\n",
              "      <th>MATRICULA_NaT</th>\n",
              "      <th>CATEGORIA_COMERCIAL_2019-01-01 00:00:00</th>\n",
              "      <th>CATEGORIA_COMERCIAL_2019-02-01 00:00:00</th>\n",
              "      <th>CATEGORIA_COMERCIAL_2019-03-01 00:00:00</th>\n",
              "      <th>CATEGORIA_COMERCIAL_2019-04-01 00:00:00</th>\n",
              "      <th>CATEGORIA_COMERCIAL_2019-05-01 00:00:00</th>\n",
              "      <th>CATEGORIA_COMERCIAL_2019-06-01 00:00:00</th>\n",
              "      <th>CATEGORIA_COMERCIAL_2019-07-01 00:00:00</th>\n",
              "      <th>CATEGORIA_COMERCIAL_2019-08-01 00:00:00</th>\n",
              "      <th>CATEGORIA_COMERCIAL_2019-09-01 00:00:00</th>\n",
              "      <th>...</th>\n",
              "      <th>feature_503</th>\n",
              "      <th>feature_504</th>\n",
              "      <th>feature_505</th>\n",
              "      <th>feature_506</th>\n",
              "      <th>feature_507</th>\n",
              "      <th>feature_508</th>\n",
              "      <th>feature_509</th>\n",
              "      <th>feature_510</th>\n",
              "      <th>feature_511</th>\n",
              "      <th>FRAUDE</th>\n",
              "    </tr>\n",
              "  </thead>\n",
              "  <tbody>\n",
              "    <tr>\n",
              "      <th>count</th>\n",
              "      <td>3.795750e+05</td>\n",
              "      <td>379575.000000</td>\n",
              "      <td>379575.000000</td>\n",
              "      <td>379575.000000</td>\n",
              "      <td>379575.000000</td>\n",
              "      <td>379575.000000</td>\n",
              "      <td>379575.000000</td>\n",
              "      <td>379575.000000</td>\n",
              "      <td>379575.000000</td>\n",
              "      <td>379575.000000</td>\n",
              "      <td>...</td>\n",
              "      <td>379554.000000</td>\n",
              "      <td>379554.000000</td>\n",
              "      <td>379554.000000</td>\n",
              "      <td>379554.000000</td>\n",
              "      <td>379554.000000</td>\n",
              "      <td>379554.000000</td>\n",
              "      <td>379554.000000</td>\n",
              "      <td>379554.000000</td>\n",
              "      <td>379554.000000</td>\n",
              "      <td>379575.000000</td>\n",
              "    </tr>\n",
              "    <tr>\n",
              "      <th>mean</th>\n",
              "      <td>1.764489e+07</td>\n",
              "      <td>0.075735</td>\n",
              "      <td>0.075716</td>\n",
              "      <td>0.075569</td>\n",
              "      <td>0.075484</td>\n",
              "      <td>0.075495</td>\n",
              "      <td>0.075432</td>\n",
              "      <td>0.075353</td>\n",
              "      <td>0.075139</td>\n",
              "      <td>0.075095</td>\n",
              "      <td>...</td>\n",
              "      <td>0.339136</td>\n",
              "      <td>0.067815</td>\n",
              "      <td>0.418885</td>\n",
              "      <td>0.504726</td>\n",
              "      <td>0.239797</td>\n",
              "      <td>0.242035</td>\n",
              "      <td>0.779648</td>\n",
              "      <td>0.201204</td>\n",
              "      <td>0.345470</td>\n",
              "      <td>0.324047</td>\n",
              "    </tr>\n",
              "    <tr>\n",
              "      <th>std</th>\n",
              "      <td>2.895757e+05</td>\n",
              "      <td>0.264574</td>\n",
              "      <td>0.264544</td>\n",
              "      <td>0.264307</td>\n",
              "      <td>0.264172</td>\n",
              "      <td>0.264189</td>\n",
              "      <td>0.264087</td>\n",
              "      <td>0.263960</td>\n",
              "      <td>0.263616</td>\n",
              "      <td>0.263544</td>\n",
              "      <td>...</td>\n",
              "      <td>1.030344</td>\n",
              "      <td>0.268031</td>\n",
              "      <td>1.240494</td>\n",
              "      <td>1.313272</td>\n",
              "      <td>0.908663</td>\n",
              "      <td>0.836946</td>\n",
              "      <td>1.498094</td>\n",
              "      <td>0.869290</td>\n",
              "      <td>1.014762</td>\n",
              "      <td>0.468018</td>\n",
              "    </tr>\n",
              "    <tr>\n",
              "      <th>min</th>\n",
              "      <td>1.700000e+07</td>\n",
              "      <td>0.000000</td>\n",
              "      <td>0.000000</td>\n",
              "      <td>0.000000</td>\n",
              "      <td>0.000000</td>\n",
              "      <td>0.000000</td>\n",
              "      <td>0.000000</td>\n",
              "      <td>0.000000</td>\n",
              "      <td>0.000000</td>\n",
              "      <td>0.000000</td>\n",
              "      <td>...</td>\n",
              "      <td>-0.509131</td>\n",
              "      <td>0.000000</td>\n",
              "      <td>-0.422257</td>\n",
              "      <td>-0.289046</td>\n",
              "      <td>-0.643034</td>\n",
              "      <td>-0.662401</td>\n",
              "      <td>-0.020646</td>\n",
              "      <td>-0.885798</td>\n",
              "      <td>-0.435542</td>\n",
              "      <td>0.000000</td>\n",
              "    </tr>\n",
              "    <tr>\n",
              "      <th>25%</th>\n",
              "      <td>1.735924e+07</td>\n",
              "      <td>0.000000</td>\n",
              "      <td>0.000000</td>\n",
              "      <td>0.000000</td>\n",
              "      <td>0.000000</td>\n",
              "      <td>0.000000</td>\n",
              "      <td>0.000000</td>\n",
              "      <td>0.000000</td>\n",
              "      <td>0.000000</td>\n",
              "      <td>0.000000</td>\n",
              "      <td>...</td>\n",
              "      <td>-0.343662</td>\n",
              "      <td>0.000000</td>\n",
              "      <td>-0.320372</td>\n",
              "      <td>-0.284548</td>\n",
              "      <td>-0.400940</td>\n",
              "      <td>-0.379809</td>\n",
              "      <td>-0.020646</td>\n",
              "      <td>-0.418429</td>\n",
              "      <td>-0.328626</td>\n",
              "      <td>0.000000</td>\n",
              "    </tr>\n",
              "    <tr>\n",
              "      <th>50%</th>\n",
              "      <td>1.778456e+07</td>\n",
              "      <td>0.000000</td>\n",
              "      <td>0.000000</td>\n",
              "      <td>0.000000</td>\n",
              "      <td>0.000000</td>\n",
              "      <td>0.000000</td>\n",
              "      <td>0.000000</td>\n",
              "      <td>0.000000</td>\n",
              "      <td>0.000000</td>\n",
              "      <td>0.000000</td>\n",
              "      <td>...</td>\n",
              "      <td>0.000000</td>\n",
              "      <td>0.000000</td>\n",
              "      <td>0.000000</td>\n",
              "      <td>0.000000</td>\n",
              "      <td>0.000000</td>\n",
              "      <td>0.000000</td>\n",
              "      <td>0.000000</td>\n",
              "      <td>0.000000</td>\n",
              "      <td>0.000000</td>\n",
              "      <td>0.000000</td>\n",
              "    </tr>\n",
              "    <tr>\n",
              "      <th>75%</th>\n",
              "      <td>1.788381e+07</td>\n",
              "      <td>0.000000</td>\n",
              "      <td>0.000000</td>\n",
              "      <td>0.000000</td>\n",
              "      <td>0.000000</td>\n",
              "      <td>0.000000</td>\n",
              "      <td>0.000000</td>\n",
              "      <td>0.000000</td>\n",
              "      <td>0.000000</td>\n",
              "      <td>0.000000</td>\n",
              "      <td>...</td>\n",
              "      <td>0.656338</td>\n",
              "      <td>0.000000</td>\n",
              "      <td>0.679628</td>\n",
              "      <td>0.715452</td>\n",
              "      <td>0.599060</td>\n",
              "      <td>0.620191</td>\n",
              "      <td>0.979354</td>\n",
              "      <td>0.581571</td>\n",
              "      <td>0.671374</td>\n",
              "      <td>1.000000</td>\n",
              "    </tr>\n",
              "    <tr>\n",
              "      <th>max</th>\n",
              "      <td>1.798557e+07</td>\n",
              "      <td>1.000000</td>\n",
              "      <td>1.000000</td>\n",
              "      <td>1.000000</td>\n",
              "      <td>1.000000</td>\n",
              "      <td>1.000000</td>\n",
              "      <td>1.000000</td>\n",
              "      <td>1.000000</td>\n",
              "      <td>1.000000</td>\n",
              "      <td>1.000000</td>\n",
              "      <td>...</td>\n",
              "      <td>9.926554</td>\n",
              "      <td>7.124459</td>\n",
              "      <td>13.588117</td>\n",
              "      <td>25.688940</td>\n",
              "      <td>14.845436</td>\n",
              "      <td>6.760050</td>\n",
              "      <td>18.437627</td>\n",
              "      <td>9.377607</td>\n",
              "      <td>14.029310</td>\n",
              "      <td>1.000000</td>\n",
              "    </tr>\n",
              "  </tbody>\n",
              "</table>\n",
              "<p>8 rows × 804 columns</p>\n",
              "</div>\n",
              "    <div class=\"colab-df-buttons\">\n",
              "\n",
              "  <div class=\"colab-df-container\">\n",
              "    <button class=\"colab-df-convert\" onclick=\"convertToInteractive('df-5dc9f300-6d1e-4671-801a-ab35fd5280b2')\"\n",
              "            title=\"Convert this dataframe to an interactive table.\"\n",
              "            style=\"display:none;\">\n",
              "\n",
              "  <svg xmlns=\"http://www.w3.org/2000/svg\" height=\"24px\" viewBox=\"0 -960 960 960\">\n",
              "    <path d=\"M120-120v-720h720v720H120Zm60-500h600v-160H180v160Zm220 220h160v-160H400v160Zm0 220h160v-160H400v160ZM180-400h160v-160H180v160Zm440 0h160v-160H620v160ZM180-180h160v-160H180v160Zm440 0h160v-160H620v160Z\"/>\n",
              "  </svg>\n",
              "    </button>\n",
              "\n",
              "  <style>\n",
              "    .colab-df-container {\n",
              "      display:flex;\n",
              "      gap: 12px;\n",
              "    }\n",
              "\n",
              "    .colab-df-convert {\n",
              "      background-color: #E8F0FE;\n",
              "      border: none;\n",
              "      border-radius: 50%;\n",
              "      cursor: pointer;\n",
              "      display: none;\n",
              "      fill: #1967D2;\n",
              "      height: 32px;\n",
              "      padding: 0 0 0 0;\n",
              "      width: 32px;\n",
              "    }\n",
              "\n",
              "    .colab-df-convert:hover {\n",
              "      background-color: #E2EBFA;\n",
              "      box-shadow: 0px 1px 2px rgba(60, 64, 67, 0.3), 0px 1px 3px 1px rgba(60, 64, 67, 0.15);\n",
              "      fill: #174EA6;\n",
              "    }\n",
              "\n",
              "    .colab-df-buttons div {\n",
              "      margin-bottom: 4px;\n",
              "    }\n",
              "\n",
              "    [theme=dark] .colab-df-convert {\n",
              "      background-color: #3B4455;\n",
              "      fill: #D2E3FC;\n",
              "    }\n",
              "\n",
              "    [theme=dark] .colab-df-convert:hover {\n",
              "      background-color: #434B5C;\n",
              "      box-shadow: 0px 1px 3px 1px rgba(0, 0, 0, 0.15);\n",
              "      filter: drop-shadow(0px 1px 2px rgba(0, 0, 0, 0.3));\n",
              "      fill: #FFFFFF;\n",
              "    }\n",
              "  </style>\n",
              "\n",
              "    <script>\n",
              "      const buttonEl =\n",
              "        document.querySelector('#df-5dc9f300-6d1e-4671-801a-ab35fd5280b2 button.colab-df-convert');\n",
              "      buttonEl.style.display =\n",
              "        google.colab.kernel.accessAllowed ? 'block' : 'none';\n",
              "\n",
              "      async function convertToInteractive(key) {\n",
              "        const element = document.querySelector('#df-5dc9f300-6d1e-4671-801a-ab35fd5280b2');\n",
              "        const dataTable =\n",
              "          await google.colab.kernel.invokeFunction('convertToInteractive',\n",
              "                                                    [key], {});\n",
              "        if (!dataTable) return;\n",
              "\n",
              "        const docLinkHtml = 'Like what you see? Visit the ' +\n",
              "          '<a target=\"_blank\" href=https://colab.research.google.com/notebooks/data_table.ipynb>data table notebook</a>'\n",
              "          + ' to learn more about interactive tables.';\n",
              "        element.innerHTML = '';\n",
              "        dataTable['output_type'] = 'display_data';\n",
              "        await google.colab.output.renderOutput(dataTable, element);\n",
              "        const docLink = document.createElement('div');\n",
              "        docLink.innerHTML = docLinkHtml;\n",
              "        element.appendChild(docLink);\n",
              "      }\n",
              "    </script>\n",
              "  </div>\n",
              "\n",
              "\n",
              "<div id=\"df-585267f9-c614-4180-8284-795074ab09ba\">\n",
              "  <button class=\"colab-df-quickchart\" onclick=\"quickchart('df-585267f9-c614-4180-8284-795074ab09ba')\"\n",
              "            title=\"Suggest charts\"\n",
              "            style=\"display:none;\">\n",
              "\n",
              "<svg xmlns=\"http://www.w3.org/2000/svg\" height=\"24px\"viewBox=\"0 0 24 24\"\n",
              "     width=\"24px\">\n",
              "    <g>\n",
              "        <path d=\"M19 3H5c-1.1 0-2 .9-2 2v14c0 1.1.9 2 2 2h14c1.1 0 2-.9 2-2V5c0-1.1-.9-2-2-2zM9 17H7v-7h2v7zm4 0h-2V7h2v10zm4 0h-2v-4h2v4z\"/>\n",
              "    </g>\n",
              "</svg>\n",
              "  </button>\n",
              "\n",
              "<style>\n",
              "  .colab-df-quickchart {\n",
              "      --bg-color: #E8F0FE;\n",
              "      --fill-color: #1967D2;\n",
              "      --hover-bg-color: #E2EBFA;\n",
              "      --hover-fill-color: #174EA6;\n",
              "      --disabled-fill-color: #AAA;\n",
              "      --disabled-bg-color: #DDD;\n",
              "  }\n",
              "\n",
              "  [theme=dark] .colab-df-quickchart {\n",
              "      --bg-color: #3B4455;\n",
              "      --fill-color: #D2E3FC;\n",
              "      --hover-bg-color: #434B5C;\n",
              "      --hover-fill-color: #FFFFFF;\n",
              "      --disabled-bg-color: #3B4455;\n",
              "      --disabled-fill-color: #666;\n",
              "  }\n",
              "\n",
              "  .colab-df-quickchart {\n",
              "    background-color: var(--bg-color);\n",
              "    border: none;\n",
              "    border-radius: 50%;\n",
              "    cursor: pointer;\n",
              "    display: none;\n",
              "    fill: var(--fill-color);\n",
              "    height: 32px;\n",
              "    padding: 0;\n",
              "    width: 32px;\n",
              "  }\n",
              "\n",
              "  .colab-df-quickchart:hover {\n",
              "    background-color: var(--hover-bg-color);\n",
              "    box-shadow: 0 1px 2px rgba(60, 64, 67, 0.3), 0 1px 3px 1px rgba(60, 64, 67, 0.15);\n",
              "    fill: var(--button-hover-fill-color);\n",
              "  }\n",
              "\n",
              "  .colab-df-quickchart-complete:disabled,\n",
              "  .colab-df-quickchart-complete:disabled:hover {\n",
              "    background-color: var(--disabled-bg-color);\n",
              "    fill: var(--disabled-fill-color);\n",
              "    box-shadow: none;\n",
              "  }\n",
              "\n",
              "  .colab-df-spinner {\n",
              "    border: 2px solid var(--fill-color);\n",
              "    border-color: transparent;\n",
              "    border-bottom-color: var(--fill-color);\n",
              "    animation:\n",
              "      spin 1s steps(1) infinite;\n",
              "  }\n",
              "\n",
              "  @keyframes spin {\n",
              "    0% {\n",
              "      border-color: transparent;\n",
              "      border-bottom-color: var(--fill-color);\n",
              "      border-left-color: var(--fill-color);\n",
              "    }\n",
              "    20% {\n",
              "      border-color: transparent;\n",
              "      border-left-color: var(--fill-color);\n",
              "      border-top-color: var(--fill-color);\n",
              "    }\n",
              "    30% {\n",
              "      border-color: transparent;\n",
              "      border-left-color: var(--fill-color);\n",
              "      border-top-color: var(--fill-color);\n",
              "      border-right-color: var(--fill-color);\n",
              "    }\n",
              "    40% {\n",
              "      border-color: transparent;\n",
              "      border-right-color: var(--fill-color);\n",
              "      border-top-color: var(--fill-color);\n",
              "    }\n",
              "    60% {\n",
              "      border-color: transparent;\n",
              "      border-right-color: var(--fill-color);\n",
              "    }\n",
              "    80% {\n",
              "      border-color: transparent;\n",
              "      border-right-color: var(--fill-color);\n",
              "      border-bottom-color: var(--fill-color);\n",
              "    }\n",
              "    90% {\n",
              "      border-color: transparent;\n",
              "      border-bottom-color: var(--fill-color);\n",
              "    }\n",
              "  }\n",
              "</style>\n",
              "\n",
              "  <script>\n",
              "    async function quickchart(key) {\n",
              "      const quickchartButtonEl =\n",
              "        document.querySelector('#' + key + ' button');\n",
              "      quickchartButtonEl.disabled = true;  // To prevent multiple clicks.\n",
              "      quickchartButtonEl.classList.add('colab-df-spinner');\n",
              "      try {\n",
              "        const charts = await google.colab.kernel.invokeFunction(\n",
              "            'suggestCharts', [key], {});\n",
              "      } catch (error) {\n",
              "        console.error('Error during call to suggestCharts:', error);\n",
              "      }\n",
              "      quickchartButtonEl.classList.remove('colab-df-spinner');\n",
              "      quickchartButtonEl.classList.add('colab-df-quickchart-complete');\n",
              "    }\n",
              "    (() => {\n",
              "      let quickchartButtonEl =\n",
              "        document.querySelector('#df-585267f9-c614-4180-8284-795074ab09ba button');\n",
              "      quickchartButtonEl.style.display =\n",
              "        google.colab.kernel.accessAllowed ? 'block' : 'none';\n",
              "    })();\n",
              "  </script>\n",
              "</div>\n",
              "\n",
              "    </div>\n",
              "  </div>\n"
            ],
            "application/vnd.google.colaboratory.intrinsic+json": {
              "type": "dataframe"
            }
          },
          "metadata": {},
          "execution_count": 9
        }
      ],
      "source": [
        "df.describe() #estatísticas descritivas das colunas numéricas"
      ]
    },
    {
      "cell_type": "code",
      "execution_count": 10,
      "metadata": {
        "id": "twsmTA8mAomO"
      },
      "outputs": [],
      "source": [
        "df = df.select_dtypes(include=['int64', 'float64'])"
      ]
    },
    {
      "cell_type": "markdown",
      "metadata": {
        "id": "-AcQk_ErHXbQ"
      },
      "source": [
        "### Tratamento basico\n",
        "\n",
        "consideramos que o dataset estava 90% preparado para esta etapa, então vamos realizar alguns pequenos ajustes commo a remoção das colunas de fraude que que estão duplicadas e também ajustes de alguns valores infinitos ou nan"
      ]
    },
    {
      "cell_type": "code",
      "execution_count": 11,
      "metadata": {
        "colab": {
          "base_uri": "https://localhost:8080/"
        },
        "id": "7HaDzdCu_p0v",
        "outputId": "484d2e18-af08-46cc-a3b4-8f8ac74003b5"
      },
      "outputs": [
        {
          "output_type": "stream",
          "name": "stdout",
          "text": [
            "NaNs após o tratamento: 0\n",
            "Infinitos após o tratamento: 0\n"
          ]
        }
      ],
      "source": [
        "# Preencher valores NaN com 0\n",
        "df.fillna(0, inplace=True)\n",
        "\n",
        "# Substituir valores infinitos por 0\n",
        "df.replace([np.inf, -np.inf], 0, inplace=True)\n",
        "\n",
        "# Verifique se ainda há NaN ou infinitos após o tratamento\n",
        "print(\"NaNs após o tratamento:\", df.isnull().sum().sum())  # Deve ser 0\n",
        "print(\"Infinitos após o tratamento:\", np.isinf(df).sum().sum())  # Deve ser 0\n"
      ]
    },
    {
      "cell_type": "code",
      "execution_count": 12,
      "metadata": {
        "id": "FD33nmurMk9k"
      },
      "outputs": [],
      "source": [
        "# Nome da coluna que você quer manter\n",
        "coluna_a_manter = 'FRAUDE'\n",
        "\n",
        "# Filtrando o DataFrame para remover todas as outras colunas que contêm 'FRAUDE', exceto a que você quer manter\n",
        "colunas_fraude = df.filter(regex='FRAUDE').columns\n",
        "colunas_a_remover = [col for col in colunas_fraude if col != coluna_a_manter]\n",
        "\n",
        "# Removendo as colunas indesejadas\n",
        "df = df.drop(columns=colunas_a_remover)"
      ]
    },
    {
      "cell_type": "markdown",
      "metadata": {
        "id": "Qz1GuSXPgQue"
      },
      "source": [
        "#Divisão de treino e teste"
      ]
    },
    {
      "cell_type": "markdown",
      "metadata": {
        "id": "p1GqEgf7gamR"
      },
      "source": [
        "###Definindo X e Y"
      ]
    },
    {
      "cell_type": "code",
      "execution_count": 13,
      "metadata": {
        "id": "nCLkelc-gXVs"
      },
      "outputs": [],
      "source": [
        "X = df.drop(columns=['FRAUDE','MATRICULA','MATRICULA_NaT'])  # Exclua a coluna do rótulo para ter as features\n",
        "y = df['FRAUDE']  # Essa coluna é o que queremos prever"
      ]
    },
    {
      "cell_type": "markdown",
      "metadata": {
        "id": "R5xX9vyHg0D_"
      },
      "source": [
        "###Dividindo"
      ]
    },
    {
      "cell_type": "code",
      "execution_count": 14,
      "metadata": {
        "id": "i1FocGLbgzfe"
      },
      "outputs": [],
      "source": [
        "# Dividindo os dados em 80% treino e 20% teste\n",
        "X_train, X_test, y_train, y_test = train_test_split(X, y, test_size=0.3, random_state=42)"
      ]
    },
    {
      "cell_type": "markdown",
      "metadata": {
        "id": "1IST21EgUKql"
      },
      "source": [
        "###Undersample"
      ]
    },
    {
      "cell_type": "code",
      "execution_count": 15,
      "metadata": {
        "colab": {
          "base_uri": "https://localhost:8080/"
        },
        "id": "CRwzlpFpMOAS",
        "outputId": "dca91ce3-7271-4efe-a3d6-71dcceba5765"
      },
      "outputs": [
        {
          "output_type": "stream",
          "name": "stdout",
          "text": [
            "Distribuição das classes antes do undersampling: Counter({0: 179616, 1: 86086})\n",
            "Distribuição das classes após o undersampling: Counter({0: 86086, 1: 86086})\n"
          ]
        }
      ],
      "source": [
        "# Inicializando o RandomUnderSampler\n",
        "undersample = RandomUnderSampler(random_state=32)\n",
        "\n",
        "# Aplicando o undersampling\n",
        "X_train_resampled, y_train_resampled = undersample.fit_resample(X_train, y_train)\n",
        "\n",
        "# Verificando o balanceamento das classes após o undersampling\n",
        "print('Distribuição das classes antes do undersampling:', Counter(y_train))\n",
        "print('Distribuição das classes após o undersampling:', Counter(y_train_resampled))\n"
      ]
    },
    {
      "cell_type": "markdown",
      "metadata": {
        "id": "tTzAIJM6K3Eu"
      },
      "source": [
        "#Definição da Estrutura da Rede Neural"
      ]
    },
    {
      "cell_type": "markdown",
      "metadata": {
        "id": "aU9oohswIyC0"
      },
      "source": [
        "### Definindo o modelo sequencial"
      ]
    },
    {
      "cell_type": "code",
      "execution_count": 16,
      "metadata": {
        "colab": {
          "base_uri": "https://localhost:8080/"
        },
        "id": "714ys_kJ_a3v",
        "outputId": "067ddfa9-20b6-404f-9d07-f2c3401a4277"
      },
      "outputs": [
        {
          "output_type": "stream",
          "name": "stdout",
          "text": [
            "Requirement already satisfied: tensorflow in /usr/local/lib/python3.10/dist-packages (2.17.0)\n",
            "Requirement already satisfied: absl-py>=1.0.0 in /usr/local/lib/python3.10/dist-packages (from tensorflow) (1.4.0)\n",
            "Requirement already satisfied: astunparse>=1.6.0 in /usr/local/lib/python3.10/dist-packages (from tensorflow) (1.6.3)\n",
            "Requirement already satisfied: flatbuffers>=24.3.25 in /usr/local/lib/python3.10/dist-packages (from tensorflow) (24.3.25)\n",
            "Requirement already satisfied: gast!=0.5.0,!=0.5.1,!=0.5.2,>=0.2.1 in /usr/local/lib/python3.10/dist-packages (from tensorflow) (0.6.0)\n",
            "Requirement already satisfied: google-pasta>=0.1.1 in /usr/local/lib/python3.10/dist-packages (from tensorflow) (0.2.0)\n",
            "Requirement already satisfied: h5py>=3.10.0 in /usr/local/lib/python3.10/dist-packages (from tensorflow) (3.11.0)\n",
            "Requirement already satisfied: libclang>=13.0.0 in /usr/local/lib/python3.10/dist-packages (from tensorflow) (18.1.1)\n",
            "Requirement already satisfied: ml-dtypes<0.5.0,>=0.3.1 in /usr/local/lib/python3.10/dist-packages (from tensorflow) (0.4.1)\n",
            "Requirement already satisfied: opt-einsum>=2.3.2 in /usr/local/lib/python3.10/dist-packages (from tensorflow) (3.4.0)\n",
            "Requirement already satisfied: packaging in /usr/local/lib/python3.10/dist-packages (from tensorflow) (24.1)\n",
            "Requirement already satisfied: protobuf!=4.21.0,!=4.21.1,!=4.21.2,!=4.21.3,!=4.21.4,!=4.21.5,<5.0.0dev,>=3.20.3 in /usr/local/lib/python3.10/dist-packages (from tensorflow) (3.20.3)\n",
            "Requirement already satisfied: requests<3,>=2.21.0 in /usr/local/lib/python3.10/dist-packages (from tensorflow) (2.32.3)\n",
            "Requirement already satisfied: setuptools in /usr/local/lib/python3.10/dist-packages (from tensorflow) (71.0.4)\n",
            "Requirement already satisfied: six>=1.12.0 in /usr/local/lib/python3.10/dist-packages (from tensorflow) (1.16.0)\n",
            "Requirement already satisfied: termcolor>=1.1.0 in /usr/local/lib/python3.10/dist-packages (from tensorflow) (2.4.0)\n",
            "Requirement already satisfied: typing-extensions>=3.6.6 in /usr/local/lib/python3.10/dist-packages (from tensorflow) (4.12.2)\n",
            "Requirement already satisfied: wrapt>=1.11.0 in /usr/local/lib/python3.10/dist-packages (from tensorflow) (1.16.0)\n",
            "Requirement already satisfied: grpcio<2.0,>=1.24.3 in /usr/local/lib/python3.10/dist-packages (from tensorflow) (1.64.1)\n",
            "Requirement already satisfied: tensorboard<2.18,>=2.17 in /usr/local/lib/python3.10/dist-packages (from tensorflow) (2.17.0)\n",
            "Requirement already satisfied: keras>=3.2.0 in /usr/local/lib/python3.10/dist-packages (from tensorflow) (3.4.1)\n",
            "Requirement already satisfied: tensorflow-io-gcs-filesystem>=0.23.1 in /usr/local/lib/python3.10/dist-packages (from tensorflow) (0.37.1)\n",
            "Requirement already satisfied: numpy<2.0.0,>=1.23.5 in /usr/local/lib/python3.10/dist-packages (from tensorflow) (1.26.4)\n",
            "Requirement already satisfied: wheel<1.0,>=0.23.0 in /usr/local/lib/python3.10/dist-packages (from astunparse>=1.6.0->tensorflow) (0.44.0)\n",
            "Requirement already satisfied: rich in /usr/local/lib/python3.10/dist-packages (from keras>=3.2.0->tensorflow) (13.9.1)\n",
            "Requirement already satisfied: namex in /usr/local/lib/python3.10/dist-packages (from keras>=3.2.0->tensorflow) (0.0.8)\n",
            "Requirement already satisfied: optree in /usr/local/lib/python3.10/dist-packages (from keras>=3.2.0->tensorflow) (0.13.0)\n",
            "Requirement already satisfied: charset-normalizer<4,>=2 in /usr/local/lib/python3.10/dist-packages (from requests<3,>=2.21.0->tensorflow) (3.3.2)\n",
            "Requirement already satisfied: idna<4,>=2.5 in /usr/local/lib/python3.10/dist-packages (from requests<3,>=2.21.0->tensorflow) (3.10)\n",
            "Requirement already satisfied: urllib3<3,>=1.21.1 in /usr/local/lib/python3.10/dist-packages (from requests<3,>=2.21.0->tensorflow) (2.2.3)\n",
            "Requirement already satisfied: certifi>=2017.4.17 in /usr/local/lib/python3.10/dist-packages (from requests<3,>=2.21.0->tensorflow) (2024.8.30)\n",
            "Requirement already satisfied: markdown>=2.6.8 in /usr/local/lib/python3.10/dist-packages (from tensorboard<2.18,>=2.17->tensorflow) (3.7)\n",
            "Requirement already satisfied: tensorboard-data-server<0.8.0,>=0.7.0 in /usr/local/lib/python3.10/dist-packages (from tensorboard<2.18,>=2.17->tensorflow) (0.7.2)\n",
            "Requirement already satisfied: werkzeug>=1.0.1 in /usr/local/lib/python3.10/dist-packages (from tensorboard<2.18,>=2.17->tensorflow) (3.0.4)\n",
            "Requirement already satisfied: MarkupSafe>=2.1.1 in /usr/local/lib/python3.10/dist-packages (from werkzeug>=1.0.1->tensorboard<2.18,>=2.17->tensorflow) (2.1.5)\n",
            "Requirement already satisfied: markdown-it-py>=2.2.0 in /usr/local/lib/python3.10/dist-packages (from rich->keras>=3.2.0->tensorflow) (3.0.0)\n",
            "Requirement already satisfied: pygments<3.0.0,>=2.13.0 in /usr/local/lib/python3.10/dist-packages (from rich->keras>=3.2.0->tensorflow) (2.18.0)\n",
            "Requirement already satisfied: mdurl~=0.1 in /usr/local/lib/python3.10/dist-packages (from markdown-it-py>=2.2.0->rich->keras>=3.2.0->tensorflow) (0.1.2)\n"
          ]
        }
      ],
      "source": [
        "pip install tensorflow"
      ]
    },
    {
      "cell_type": "code",
      "execution_count": 17,
      "metadata": {
        "id": "c6s1UG0EIre8"
      },
      "outputs": [],
      "source": [
        "from tensorflow.keras.models import Sequential\n",
        "from tensorflow.keras.layers import Dense, Activation\n",
        "\n",
        "model = Sequential()"
      ]
    },
    {
      "cell_type": "markdown",
      "metadata": {
        "id": "SMdMbO80ezId"
      },
      "source": [
        "###Camada de entrada"
      ]
    },
    {
      "cell_type": "code",
      "execution_count": 18,
      "metadata": {
        "colab": {
          "base_uri": "https://localhost:8080/"
        },
        "id": "98coJy_gMYlp",
        "outputId": "bf0de127-86d3-4f19-8191-1cbc2b39e568"
      },
      "outputs": [
        {
          "output_type": "stream",
          "name": "stderr",
          "text": [
            "/usr/local/lib/python3.10/dist-packages/keras/src/layers/core/dense.py:87: UserWarning: Do not pass an `input_shape`/`input_dim` argument to a layer. When using Sequential models, prefer using an `Input(shape)` object as the first layer in the model instead.\n",
            "  super().__init__(activity_regularizer=activity_regularizer, **kwargs)\n"
          ]
        }
      ],
      "source": [
        "model.add(Dense(128, input_dim=X_train.shape[1], activation='relu'))"
      ]
    },
    {
      "cell_type": "markdown",
      "metadata": {
        "id": "4yUMmLWuen5R"
      },
      "source": [
        "###Aplicando early stopping\n"
      ]
    },
    {
      "cell_type": "code",
      "execution_count": 19,
      "metadata": {
        "id": "O7kzAk9aMbGK"
      },
      "outputs": [],
      "source": [
        "early_stopping = EarlyStopping(\n",
        "    monitor='val_loss',      # Métrica a ser monitorada\n",
        "    patience=5,              # Número de épocas com perda de validação sem melhoria\n",
        "    restore_best_weights=True # Restaurar os pesos do modelo para o melhor estado\n",
        ")"
      ]
    },
    {
      "cell_type": "markdown",
      "metadata": {
        "id": "E3c9cD0xe2if"
      },
      "source": [
        "###Camadas ocultas"
      ]
    },
    {
      "cell_type": "code",
      "execution_count": 20,
      "metadata": {
        "id": "tD-GB32hMdYb"
      },
      "outputs": [],
      "source": [
        "model.add(Dense(32, activation='relu'))\n",
        "model.add(Dense(32, activation='relu'))\n"
      ]
    },
    {
      "cell_type": "markdown",
      "metadata": {
        "id": "yV6ft2L8e6au"
      },
      "source": [
        "###Camada de saida"
      ]
    },
    {
      "cell_type": "code",
      "execution_count": 21,
      "metadata": {
        "id": "_1hc7dbTM3Y7"
      },
      "outputs": [],
      "source": [
        "model.add(Dense(1, activation='sigmoid'))"
      ]
    },
    {
      "cell_type": "markdown",
      "metadata": {
        "id": "CLqDcAK0fAss"
      },
      "source": [
        "###Modelo compilado"
      ]
    },
    {
      "cell_type": "code",
      "execution_count": 22,
      "metadata": {
        "id": "pgk1Oa90M9jx"
      },
      "outputs": [],
      "source": [
        "model.compile(loss='binary_crossentropy', optimizer='adam', metrics=['accuracy'])"
      ]
    },
    {
      "cell_type": "markdown",
      "metadata": {
        "id": "Q-h3y9tJV8W6"
      },
      "source": [
        "##Modelo inicial"
      ]
    },
    {
      "cell_type": "code",
      "execution_count": 23,
      "metadata": {
        "colab": {
          "base_uri": "https://localhost:8080/"
        },
        "id": "zHi8cQQnNcCo",
        "outputId": "6d905249-9090-47fb-9ec2-d006defc3cf1"
      },
      "outputs": [
        {
          "output_type": "stream",
          "name": "stdout",
          "text": [
            "Epoch 1/10\n",
            "\u001b[1m5381/5381\u001b[0m \u001b[32m━━━━━━━━━━━━━━━━━━━━\u001b[0m\u001b[37m\u001b[0m \u001b[1m19s\u001b[0m 3ms/step - accuracy: 0.5560 - loss: 0.7928 - val_accuracy: 0.5696 - val_loss: 0.6762\n",
            "Epoch 2/10\n",
            "\u001b[1m5381/5381\u001b[0m \u001b[32m━━━━━━━━━━━━━━━━━━━━\u001b[0m\u001b[37m\u001b[0m \u001b[1m12s\u001b[0m 2ms/step - accuracy: 0.5973 - loss: 0.6544 - val_accuracy: 0.6467 - val_loss: 0.6314\n",
            "Epoch 3/10\n",
            "\u001b[1m5381/5381\u001b[0m \u001b[32m━━━━━━━━━━━━━━━━━━━━\u001b[0m\u001b[37m\u001b[0m \u001b[1m12s\u001b[0m 2ms/step - accuracy: 0.6106 - loss: 0.6416 - val_accuracy: 0.6686 - val_loss: 0.6303\n",
            "Epoch 4/10\n",
            "\u001b[1m5381/5381\u001b[0m \u001b[32m━━━━━━━━━━━━━━━━━━━━\u001b[0m\u001b[37m\u001b[0m \u001b[1m12s\u001b[0m 2ms/step - accuracy: 0.6249 - loss: 0.6323 - val_accuracy: 0.6758 - val_loss: 0.6134\n",
            "Epoch 5/10\n",
            "\u001b[1m5381/5381\u001b[0m \u001b[32m━━━━━━━━━━━━━━━━━━━━\u001b[0m\u001b[37m\u001b[0m \u001b[1m12s\u001b[0m 2ms/step - accuracy: 0.6380 - loss: 0.6228 - val_accuracy: 0.6709 - val_loss: 0.6212\n",
            "Epoch 6/10\n",
            "\u001b[1m5381/5381\u001b[0m \u001b[32m━━━━━━━━━━━━━━━━━━━━\u001b[0m\u001b[37m\u001b[0m \u001b[1m12s\u001b[0m 2ms/step - accuracy: 0.6474 - loss: 0.6146 - val_accuracy: 0.6617 - val_loss: 0.6323\n",
            "Epoch 7/10\n",
            "\u001b[1m5381/5381\u001b[0m \u001b[32m━━━━━━━━━━━━━━━━━━━━\u001b[0m\u001b[37m\u001b[0m \u001b[1m12s\u001b[0m 2ms/step - accuracy: 0.6512 - loss: 0.6123 - val_accuracy: 0.6502 - val_loss: 0.6410\n",
            "Epoch 8/10\n",
            "\u001b[1m5381/5381\u001b[0m \u001b[32m━━━━━━━━━━━━━━━━━━━━\u001b[0m\u001b[37m\u001b[0m \u001b[1m12s\u001b[0m 2ms/step - accuracy: 0.6600 - loss: 0.6023 - val_accuracy: 0.6621 - val_loss: 0.6293\n",
            "Epoch 9/10\n",
            "\u001b[1m5381/5381\u001b[0m \u001b[32m━━━━━━━━━━━━━━━━━━━━\u001b[0m\u001b[37m\u001b[0m \u001b[1m12s\u001b[0m 2ms/step - accuracy: 0.6649 - loss: 0.5973 - val_accuracy: 0.6600 - val_loss: 0.6321\n",
            "Epoch 10/10\n",
            "\u001b[1m5381/5381\u001b[0m \u001b[32m━━━━━━━━━━━━━━━━━━━━\u001b[0m\u001b[37m\u001b[0m \u001b[1m12s\u001b[0m 2ms/step - accuracy: 0.6718 - loss: 0.5898 - val_accuracy: 0.6461 - val_loss: 0.6426\n"
          ]
        },
        {
          "output_type": "execute_result",
          "data": {
            "text/plain": [
              "<keras.src.callbacks.history.History at 0x7b841b935de0>"
            ]
          },
          "metadata": {},
          "execution_count": 23
        }
      ],
      "source": [
        "# Treinamento do modelo\n",
        "model.fit(X_train_resampled, y_train_resampled, epochs=10, batch_size=32, validation_data=(X_test, y_test))"
      ]
    },
    {
      "cell_type": "markdown",
      "metadata": {
        "id": "teocoTiSK8Wc"
      },
      "source": [
        "#Treinamento e Ajuste de Hiperparâmetros"
      ]
    },
    {
      "cell_type": "markdown",
      "metadata": {
        "id": "gjKA8b1VWBjT"
      },
      "source": [
        "## Otimizaão do modelo"
      ]
    },
    {
      "cell_type": "markdown",
      "metadata": {
        "id": "K0KhYYJ9WUkj"
      },
      "source": [
        "### Realizando a busca de hiperparâmetros\n"
      ]
    },
    {
      "cell_type": "markdown",
      "metadata": {
        "id": "3n2pEklRWP7i"
      },
      "source": [
        "### Inicializando o Keras Tuner"
      ]
    },
    {
      "cell_type": "code",
      "execution_count": 24,
      "metadata": {
        "id": "bberOGLbOWLV"
      },
      "outputs": [],
      "source": [
        "from keras.models import Sequential\n",
        "from keras.layers import Dense, Dropout\n",
        "from keras.optimizers import Adam\n",
        "from keras_tuner import HyperParameters\n",
        "\n",
        "def build_model(hp):\n",
        "    model = Sequential()\n",
        "\n",
        "    # Adiciona a primeira camada oculta\n",
        "    model.add(Dense(units=hp.Int('units1', min_value=32, max_value=512, step=32),\n",
        "                    activation='relu', input_shape=(X_train_resampled.shape[1],)))\n",
        "\n",
        "    # Adiciona uma camada de dropout\n",
        "    model.add(Dropout(rate=hp.Float('dropout1', 0.1, 0.5, step=0.1)))\n",
        "\n",
        "    # Adiciona a segunda camada oculta\n",
        "    model.add(Dense(units=hp.Int('units2', min_value=32, max_value=512, step=32), activation='relu'))\n",
        "\n",
        "    # Adiciona a camada de saída\n",
        "    model.add(Dense(1, activation='sigmoid'))  # Para classificação binária. Para múltiplas classes, use softmax.\n",
        "\n",
        "    # Compila o modelo\n",
        "    model.compile(optimizer=Adam(learning_rate=hp.Float('learning_rate', 1e-4, 1e-2, sampling='LOG')),\n",
        "                  loss='binary_crossentropy',  # Para classificação binária\n",
        "                  metrics=['accuracy'])\n",
        "\n",
        "    return model"
      ]
    },
    {
      "cell_type": "code",
      "execution_count": 25,
      "metadata": {
        "colab": {
          "base_uri": "https://localhost:8080/"
        },
        "id": "4EKBb-_RVgYC",
        "outputId": "a8fbb12d-94bc-40c3-d54a-fd635782897b"
      },
      "outputs": [
        {
          "output_type": "stream",
          "name": "stderr",
          "text": [
            "/usr/local/lib/python3.10/dist-packages/keras/src/layers/core/dense.py:87: UserWarning: Do not pass an `input_shape`/`input_dim` argument to a layer. When using Sequential models, prefer using an `Input(shape)` object as the first layer in the model instead.\n",
            "  super().__init__(activity_regularizer=activity_regularizer, **kwargs)\n"
          ]
        }
      ],
      "source": [
        "tuner = RandomSearch(\n",
        "    build_model,\n",
        "    objective='val_accuracy',\n",
        "    max_trials=10,\n",
        "    executions_per_trial=1,\n",
        "    directory='my_dir',\n",
        "    project_name='helloworld'\n",
        ")"
      ]
    },
    {
      "cell_type": "code",
      "execution_count": 26,
      "metadata": {
        "colab": {
          "base_uri": "https://localhost:8080/"
        },
        "id": "Cz9zyIt4Vk04",
        "outputId": "d0b08ed1-4e30-4596-fc27-936218b7174a"
      },
      "outputs": [
        {
          "output_type": "stream",
          "name": "stdout",
          "text": [
            "Trial 10 Complete [00h 02m 05s]\n",
            "val_accuracy: 0.6687362194061279\n",
            "\n",
            "Best val_accuracy So Far: 0.6974611878395081\n",
            "Total elapsed time: 00h 21m 05s\n"
          ]
        }
      ],
      "source": [
        "tuner.search(X_train_resampled, y_train_resampled, epochs=10, batch_size=32, validation_data=(X_test, y_test))\n"
      ]
    },
    {
      "cell_type": "markdown",
      "metadata": {
        "id": "JTOQ8XWHWWX9"
      },
      "source": [
        "### Resumo dos resultados"
      ]
    },
    {
      "cell_type": "code",
      "execution_count": 27,
      "metadata": {
        "colab": {
          "base_uri": "https://localhost:8080/"
        },
        "id": "_hJ7QHvlVmoV",
        "outputId": "893388c9-6ec3-4739-9f86-2b33e74ad8a1"
      },
      "outputs": [
        {
          "output_type": "stream",
          "name": "stdout",
          "text": [
            "Results summary\n",
            "Results in my_dir/helloworld\n",
            "Showing 10 best trials\n",
            "Objective(name=\"val_accuracy\", direction=\"max\")\n",
            "\n",
            "Trial 08 summary\n",
            "Hyperparameters:\n",
            "units1: 256\n",
            "dropout1: 0.30000000000000004\n",
            "units2: 384\n",
            "learning_rate: 0.0018808082162961115\n",
            "Score: 0.6974611878395081\n",
            "\n",
            "Trial 01 summary\n",
            "Hyperparameters:\n",
            "units1: 128\n",
            "dropout1: 0.5\n",
            "units2: 288\n",
            "learning_rate: 0.0026776510063065816\n",
            "Score: 0.6959156394004822\n",
            "\n",
            "Trial 07 summary\n",
            "Hyperparameters:\n",
            "units1: 480\n",
            "dropout1: 0.2\n",
            "units2: 96\n",
            "learning_rate: 0.003437632621059782\n",
            "Score: 0.6948354840278625\n",
            "\n",
            "Trial 04 summary\n",
            "Hyperparameters:\n",
            "units1: 384\n",
            "dropout1: 0.4\n",
            "units2: 384\n",
            "learning_rate: 0.000328831566908209\n",
            "Score: 0.6854478120803833\n",
            "\n",
            "Trial 06 summary\n",
            "Hyperparameters:\n",
            "units1: 448\n",
            "dropout1: 0.1\n",
            "units2: 96\n",
            "learning_rate: 0.00020483019042061686\n",
            "Score: 0.6815399527549744\n",
            "\n",
            "Trial 00 summary\n",
            "Hyperparameters:\n",
            "units1: 224\n",
            "dropout1: 0.30000000000000004\n",
            "units2: 224\n",
            "learning_rate: 0.0005110141491297823\n",
            "Score: 0.6810833215713501\n",
            "\n",
            "Trial 09 summary\n",
            "Hyperparameters:\n",
            "units1: 64\n",
            "dropout1: 0.4\n",
            "units2: 448\n",
            "learning_rate: 0.0005572109949030198\n",
            "Score: 0.6687362194061279\n",
            "\n",
            "Trial 02 summary\n",
            "Hyperparameters:\n",
            "units1: 128\n",
            "dropout1: 0.4\n",
            "units2: 352\n",
            "learning_rate: 0.0004768880020195473\n",
            "Score: 0.666259765625\n",
            "\n",
            "Trial 03 summary\n",
            "Hyperparameters:\n",
            "units1: 448\n",
            "dropout1: 0.2\n",
            "units2: 416\n",
            "learning_rate: 0.00023824393969777363\n",
            "Score: 0.6640819311141968\n",
            "\n",
            "Trial 05 summary\n",
            "Hyperparameters:\n",
            "units1: 128\n",
            "dropout1: 0.4\n",
            "units2: 192\n",
            "learning_rate: 0.0001224029351440242\n",
            "Score: 0.6518226265907288\n"
          ]
        }
      ],
      "source": [
        "tuner.results_summary()"
      ]
    },
    {
      "cell_type": "markdown",
      "metadata": {
        "id": "nre-5laMWZ-o"
      },
      "source": [
        "#### Melhor modelo encontrado\n"
      ]
    },
    {
      "cell_type": "code",
      "execution_count": 28,
      "metadata": {
        "colab": {
          "base_uri": "https://localhost:8080/"
        },
        "id": "xL56cxf5VoT1",
        "outputId": "0eb51140-ce8c-4955-fdc3-8af0cb0e55a7"
      },
      "outputs": [
        {
          "output_type": "stream",
          "name": "stderr",
          "text": [
            "/usr/local/lib/python3.10/dist-packages/keras/src/layers/core/dense.py:87: UserWarning: Do not pass an `input_shape`/`input_dim` argument to a layer. When using Sequential models, prefer using an `Input(shape)` object as the first layer in the model instead.\n",
            "  super().__init__(activity_regularizer=activity_regularizer, **kwargs)\n",
            "/usr/local/lib/python3.10/dist-packages/keras/src/saving/saving_lib.py:576: UserWarning: Skipping variable loading for optimizer 'adam', because it has 2 variables whereas the saved optimizer has 14 variables. \n",
            "  saveable.load_own_variables(weights_store.get(inner_path))\n"
          ]
        }
      ],
      "source": [
        "best_model = tuner.get_best_models(num_models=1)[0]"
      ]
    },
    {
      "cell_type": "markdown",
      "metadata": {
        "id": "FJ_ExOZkWj-g"
      },
      "source": [
        "#### Avaliando o melhor modelo nos dados de teste"
      ]
    },
    {
      "cell_type": "code",
      "execution_count": 29,
      "metadata": {
        "colab": {
          "base_uri": "https://localhost:8080/"
        },
        "id": "LgRWA_FSVqZg",
        "outputId": "0286a82d-345c-4aa7-f98d-e8bc4733abd3"
      },
      "outputs": [
        {
          "output_type": "stream",
          "name": "stdout",
          "text": [
            "\u001b[1m3559/3559\u001b[0m \u001b[32m━━━━━━━━━━━━━━━━━━━━\u001b[0m\u001b[37m\u001b[0m \u001b[1m5s\u001b[0m 1ms/step - accuracy: 0.6965 - loss: 0.6305\n",
            "Test accuracy: 0.6975\n"
          ]
        }
      ],
      "source": [
        "test_loss, test_accuracy = best_model.evaluate(X_test, y_test)\n",
        "print(f'Test accuracy: {test_accuracy:.4f}')"
      ]
    },
    {
      "cell_type": "markdown",
      "metadata": {
        "id": "IkK12SapLIMR"
      },
      "source": [
        "#Avaliação e Relatório de Resultados"
      ]
    },
    {
      "cell_type": "markdown",
      "source": [
        "#Exportando o modelo"
      ],
      "metadata": {
        "id": "i8laG2PM8u-u"
      }
    },
    {
      "cell_type": "code",
      "source": [
        "pip install joblib\n"
      ],
      "metadata": {
        "colab": {
          "base_uri": "https://localhost:8080/"
        },
        "id": "9oGTsIJl7O0l",
        "outputId": "16027cd9-d920-4fa2-c895-ce8a75738e81"
      },
      "execution_count": 31,
      "outputs": [
        {
          "output_type": "stream",
          "name": "stdout",
          "text": [
            "Requirement already satisfied: joblib in /usr/local/lib/python3.10/dist-packages (1.4.2)\n"
          ]
        }
      ]
    },
    {
      "cell_type": "code",
      "execution_count": 32,
      "metadata": {
        "colab": {
          "base_uri": "https://localhost:8080/"
        },
        "id": "BtVrY9rIrcQi",
        "outputId": "058f3f0c-d9ef-4dde-fe9b-5bcc1f0eb87c"
      },
      "outputs": [
        {
          "output_type": "execute_result",
          "data": {
            "text/plain": [
              "['best_model.pkl']"
            ]
          },
          "metadata": {},
          "execution_count": 32
        }
      ],
      "source": [
        "import joblib  # Versões mais recentes\n",
        "\n",
        "# Salvar o melhor modelo usando joblib\n",
        "joblib.dump(best_model, 'best_model.pkl')\n"
      ]
    },
    {
      "cell_type": "code",
      "execution_count": null,
      "metadata": {
        "id": "TstC68BNLYmx"
      },
      "outputs": [],
      "source": [
        "y_pred = model.predict(X_test)"
      ]
    },
    {
      "cell_type": "markdown",
      "metadata": {
        "id": "26MNsIBLTtxD"
      },
      "source": [
        "### Precision, Recall e F1-Score"
      ]
    },
    {
      "cell_type": "code",
      "execution_count": null,
      "metadata": {
        "id": "MmA9JJH7TK5b"
      },
      "outputs": [],
      "source": [
        "from sklearn.metrics import precision_score, recall_score, f1_score\n",
        "\n",
        "precision = precision_score(y_test, y_pred)\n",
        "recall = recall_score(y_test, y_pred)\n",
        "f1 = f1_score(y_test, y_pred)\n",
        "\n",
        "metrics = [precision, recall, f1]\n",
        "labels = ['Precisão', 'Recall', 'F1 Score']\n",
        "\n",
        "plt.figure(figsize=(8, 5))\n",
        "sns.barplot(x=labels, y=metrics, palette='viridis')\n",
        "plt.title('Métricas de Avaliação do Modelo')\n",
        "plt.ylabel('Valor')\n",
        "plt.ylim(0, 1)  # Definindo limite de 0 a 1\n",
        "plt.show()\n"
      ]
    },
    {
      "cell_type": "markdown",
      "metadata": {
        "id": "Wq6-GkzJTyyE"
      },
      "source": [
        "Curva ROC"
      ]
    },
    {
      "cell_type": "code",
      "execution_count": null,
      "metadata": {
        "id": "ESuEWO9NTQfH"
      },
      "outputs": [],
      "source": [
        "from sklearn.metrics import roc_curve, auc\n",
        "\n",
        "# Supondo que y_pred_prob sejam as probabilidades das classes positivas\n",
        "fpr, tpr, thresholds = roc_curve(y_test, y_pred)\n",
        "roc_auc = auc(fpr, tpr)\n",
        "\n",
        "plt.figure(figsize=(8, 5))\n",
        "plt.plot(fpr, tpr, label='AUC = {:.2f}'.format(roc_auc))\n",
        "plt.plot([0, 1], [0, 1], 'r--')  # Linha de aleatoriedade\n",
        "plt.title('Curva ROC')\n",
        "plt.xlabel('Taxa de Falsos Positivos')\n",
        "plt.ylabel('Taxa de Verdadeiros Positivos')\n",
        "plt.legend(loc='lower right')\n",
        "plt.show()\n"
      ]
    },
    {
      "cell_type": "markdown",
      "metadata": {
        "id": "CZEikViQTjML"
      },
      "source": [
        "###Matriz de confusão"
      ]
    },
    {
      "cell_type": "code",
      "execution_count": null,
      "metadata": {
        "id": "QOvPVSxiTBCc"
      },
      "outputs": [],
      "source": [
        "import matplotlib.pyplot as plt\n",
        "import seaborn as sns\n",
        "from sklearn.metrics import confusion_matrix\n",
        "\n",
        "# Supondo que y_test e y_pred sejam definidos\n",
        "cm = confusion_matrix(y_test, y_pred)\n",
        "plt.figure(figsize=(10, 7))\n",
        "sns.heatmap(cm, annot=True, fmt='d', cmap='Blues', xticklabels=['Negativo', 'Positivo'], yticklabels=['Negativo', 'Positivo'])\n",
        "plt.title('Matriz de Confusão')\n",
        "plt.ylabel('Real')\n",
        "plt.xlabel('Previsto')\n",
        "plt.show()\n"
      ]
    },
    {
      "cell_type": "markdown",
      "metadata": {
        "id": "90xYcaGBBzUg"
      },
      "source": [
        "###Reaizando previsões"
      ]
    },
    {
      "cell_type": "code",
      "execution_count": null,
      "metadata": {
        "id": "0PYWr86sOQzp"
      },
      "outputs": [],
      "source": [
        "y_pred = model.predict(X_test)\n",
        "y_pred_classes = np.argmax(y_pred, axis=1)\n",
        "y_pred = (y_pred > 0.5).astype(int)  # Converte probabilidades em 0 ou 1\n"
      ]
    }
  ],
  "metadata": {
    "accelerator": "GPU",
    "colab": {
      "gpuType": "T4",
      "machine_shape": "hm",
      "provenance": []
    },
    "kernelspec": {
      "display_name": "Python 3",
      "name": "python3"
    },
    "language_info": {
      "name": "python"
    }
  },
  "nbformat": 4,
  "nbformat_minor": 0
}